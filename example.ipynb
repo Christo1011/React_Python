{
 "cells": [
  {
   "cell_type": "code",
   "execution_count": 1,
   "metadata": {},
   "outputs": [],
   "source": [
    "from example import Thing\n",
    "#from example.Canvas import Canvas\n",
    "from IPython.display import display\n",
    "import random\n",
    "\n",
    "\n",
    "#data = [[{'y': random.randrange(1,10), \"x\": i+1} for i, v in enumerate(range(10))] for x in [1,2,3,4]]\n",
    "#/Users/christodoulos/jupyter-react-example/\n",
    "#height = {props.height | 30} width = { props.width | 30}\n",
    "mything = Thing(props={\"className\" : \"foo\", \"height\" : 30, \"width\" : 30,\n",
    "                      \"src\" : \"H.png\", \"data\":42})\n",
    "#mything = Thing(props={\"img\": \"H.png\"})\n",
    "display(mything)\n"
   ]
  },
  {
   "cell_type": "code",
   "execution_count": 2,
   "metadata": {},
   "outputs": [],
   "source": [
    "mything.props['new_data'] = 96\n",
    "mything.doSend()"
   ]
  },
  {
   "cell_type": "code",
   "execution_count": 4,
   "metadata": {},
   "outputs": [
    {
     "data": {
      "text/plain": [
       "[{'header': {'msg_id': 'f008ab4aa4c641e887985a3b49cf0a6f',\n",
       "   'username': 'username',\n",
       "   'session': '3623e4a9c84f4696be566056b6b56543',\n",
       "   'msg_type': 'comm_msg',\n",
       "   'version': '5.2',\n",
       "   'date': datetime.datetime(2020, 4, 5, 1, 15, 16, 950332, tzinfo=datetime.timezone.utc)},\n",
       "  'msg_id': 'f008ab4aa4c641e887985a3b49cf0a6f',\n",
       "  'msg_type': 'comm_msg',\n",
       "  'parent_header': {},\n",
       "  'metadata': {},\n",
       "  'content': {'comm_id': 'jupyter_react.34809fa3-2a76-4d63-9335-4b27c0bc6a05.Thing',\n",
       "   'data': {'content': [None, None, 'H'], 'buffers': ['a', 'set']}},\n",
       "  'buffers': []},\n",
       " {'header': {'msg_id': 'aee3a87951334b4c890911f0226e8ab0',\n",
       "   'username': 'username',\n",
       "   'session': '3623e4a9c84f4696be566056b6b56543',\n",
       "   'msg_type': 'comm_msg',\n",
       "   'version': '5.2',\n",
       "   'date': datetime.datetime(2020, 4, 5, 1, 15, 30, 633104, tzinfo=datetime.timezone.utc)},\n",
       "  'msg_id': 'aee3a87951334b4c890911f0226e8ab0',\n",
       "  'msg_type': 'comm_msg',\n",
       "  'parent_header': {},\n",
       "  'metadata': {},\n",
       "  'content': {'comm_id': 'jupyter_react.34809fa3-2a76-4d63-9335-4b27c0bc6a05.Thing',\n",
       "   'data': {'content': [None, None, 'H'], 'buffers': ['a', 'set']}},\n",
       "  'buffers': []}]"
      ]
     },
     "execution_count": 4,
     "metadata": {},
     "output_type": "execute_result"
    }
   ],
   "source": [
    "mything.messages"
   ]
  },
  {
   "cell_type": "code",
   "execution_count": null,
   "metadata": {},
   "outputs": [],
   "source": [
    "mything.props"
   ]
  },
  {
   "cell_type": "code",
   "execution_count": null,
   "metadata": {},
   "outputs": [],
   "source": []
  }
 ],
 "metadata": {
  "anaconda-cloud": {},
  "kernelspec": {
   "display_name": "Python 3",
   "language": "python",
   "name": "python3"
  },
  "language_info": {
   "codemirror_mode": {
    "name": "ipython",
    "version": 3
   },
   "file_extension": ".py",
   "mimetype": "text/x-python",
   "name": "python",
   "nbconvert_exporter": "python",
   "pygments_lexer": "ipython3",
   "version": "3.6.10"
  }
 },
 "nbformat": 4,
 "nbformat_minor": 1
}
