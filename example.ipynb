{
 "cells": [
  {
   "cell_type": "code",
   "execution_count": 1,
   "metadata": {},
   "outputs": [],
   "source": [
    "from example import Thing\n",
    "#from example.Canvas import Canvas\n",
    "from IPython.display import display\n",
    "import random\n",
    "\n",
    "\n",
    "#data = [[{'y': random.randrange(1,10), \"x\": i+1} for i, v in enumerate(range(10))] for x in [1,2,3,4]]\n",
    "#/Users/christodoulos/jupyter-react-example/\n",
    "#height = {props.height | 30} width = { props.width | 30}\n",
    "mything = Thing(props={\"className\" : \"foo\", \"ref\" : \"canvas\", \"height\" : 300, \"width\" : 300})\n",
    "#mything = Thing(props={\"img\": \"H.png\"})\n",
    "display(mything)\n"
   ]
  },
  {
   "cell_type": "code",
   "execution_count": null,
   "metadata": {},
   "outputs": [],
   "source": [
    "#mything1 = Canvas(props={\"ref\" : \"canvas\", \"height\" : 300, \"width\" : 300})\n",
    "#display(mything1)"
   ]
  },
  {
   "cell_type": "code",
   "execution_count": null,
   "metadata": {},
   "outputs": [],
   "source": []
  }
 ],
 "metadata": {
  "anaconda-cloud": {},
  "kernelspec": {
   "display_name": "Python 3",
   "language": "python",
   "name": "python3"
  },
  "language_info": {
   "codemirror_mode": {
    "name": "ipython",
    "version": 3
   },
   "file_extension": ".py",
   "mimetype": "text/x-python",
   "name": "python",
   "nbconvert_exporter": "python",
   "pygments_lexer": "ipython3",
   "version": "3.7.6"
  }
 },
 "nbformat": 4,
 "nbformat_minor": 1
}
