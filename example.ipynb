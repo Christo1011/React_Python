{
 "cells": [
  {
   "cell_type": "code",
   "execution_count": 4,
   "metadata": {},
   "outputs": [],
   "source": [
    "from example import Thing\n",
    "from example.Canvas import Canvas\n",
    "from IPython.display import display\n",
    "import random\n",
    "\n",
    "\n",
    "#data = [[{'y': random.randrange(1,10), \"x\": i+1} for i, v in enumerate(range(10))] for x in [1,2,3,4]]\n",
    "#/Users/christodoulos/jupyter-react-example/\n",
    "#mything = Thing(props={\"img\": \"H.png\"})\n",
    "mything = Canvas()\n",
    "display(mything)\n"
   ]
  },
  {
   "cell_type": "code",
   "execution_count": null,
   "metadata": {},
   "outputs": [],
   "source": [
    "#data = [[{'y': random.randrange(1,10), \"x\": i+1} for i, v in enumerate(range(10))] for x in [1,2,3,4]]\n",
    "#/Users/christodoulos/jupyter-react-example/\n",
    "#mything = Thing(props={\"img\": \"H.png\"})\n",
    "#display(mything)"
   ]
  },
  {
   "cell_type": "code",
   "execution_count": null,
   "metadata": {},
   "outputs": [],
   "source": []
  }
 ],
 "metadata": {
  "anaconda-cloud": {},
  "kernelspec": {
   "display_name": "Python 3",
   "language": "python",
   "name": "python3"
  }
 },
 "nbformat": 4,
 "nbformat_minor": 1
}
