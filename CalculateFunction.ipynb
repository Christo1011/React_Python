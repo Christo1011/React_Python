{
 "cells": [
  {
   "cell_type": "code",
   "execution_count": 3,
   "metadata": {},
   "outputs": [],
   "source": [
    "import numpy as np\n",
    "import pandas as pd"
   ]
  },
  {
   "cell_type": "code",
   "execution_count": 4,
   "metadata": {},
   "outputs": [],
   "source": [
    "def calcNewResult1(circuit):\n",
    "    x  = len(circuit)\n",
    "    B = []\n",
    "    s = \"\"\n",
    "    qubit_state = []\n",
    "    for i in reversed(range(x)):\n",
    "        s+= circuit[i][0]\n",
    "\n",
    "    qubit_state = states(s)\n",
    "    Hgate = 1/np.sqrt(2) * np.array([[1.0,1.0],[1.0,-1.0]])\n",
    "    Xgate = np.array([[0.0,1.0],[1.0,0.0]])\n",
    "    Zgate = np.array([[1.0,0.0],[0.0,-1.0]])\n",
    "    Ygate = np.array([[0.0,-1j],[1j,0.0]])\n",
    "    IDgate = np.array([[1.0,0.0],[0.0,1.0]])\n",
    "    Cnot = np.array([[1,0,0,0],[0,1,0,0],[0,0,0,1],[0,0,1,0]])\n",
    "    Cnot1 = np.array([[1,0,0,0],[0,0,0,1],[0,0,1,0],[0,1,0,0]])\n",
    "    \n",
    "    for i in range(max(map(lambda x: len (x), circuit))):\n",
    "        if(i>0):\n",
    "            \n",
    "            for k in range(len(circuit)):\n",
    "                if(circuit[k][i] == 'H'):\n",
    "                    B.append(Hgate)\n",
    "                elif(circuit[k][i] == 'X'):\n",
    "                    if(circuit[k-1][i] == \"N\" and circuit[k][i] == 'X'):\n",
    "                        B.append(Cnot)\n",
    "                        continue\n",
    "                    else:\n",
    "                        B.append(Xgate) \n",
    "                elif(circuit[k][i] == 'Y'):\n",
    "                    B.append(Ygate) \n",
    "                elif(circuit[k][i] == 'Z'):\n",
    "                    B.append(Zgate) \n",
    "                elif(circuit[k][i] == 'I' or circuit[k][i] == '/'):#or circuit[k][i] == 'N'): \n",
    "                    B.append(IDgate)\n",
    "                elif(circuit[k][i] == 'N'):\n",
    "                    if(circuit[k-1][i] == \"X\" and circuit[k][i] == 'N'):\n",
    "                        B.append(Cnot1)\n",
    "                        continue\n",
    "                    else:\n",
    "                        B.append(IDgate)\n",
    "    for i in range(0,len(B),2):\n",
    "            qubit_state = Estim2(qubit_state,B[i],B[i+1])\n",
    "    result = qubit_state.tolist()\n",
    "    return result\n",
    "def states(s):\n",
    "        q=[]\n",
    "        if(s == '0'):\n",
    "            q = [1,0]\n",
    "        if(s == '1'):\n",
    "            q = [0,1]\n",
    "        if(s == '00'):\n",
    "            q = [1,0,0,0]\n",
    "        if(s == '01'):\n",
    "            q = [0,1,0,0]\n",
    "        if(s == '10'):\n",
    "            q = [0,0,1,0]\n",
    "        if(s == '11'):\n",
    "            q = [0,0,0,1]\n",
    "        return q\n",
    "def Estim2(q,gate1,gate2):\n",
    "        print(len(gate1),len(gate2))\n",
    "        D = []\n",
    "        E = []\n",
    "        print(\"q\",q,\"gate1\",gate1,\"gate12\",gate2)\n",
    "        if(len(gate1) == 2 and len(gate2) == 2):\n",
    "            E = np.kron(gate2,gate1)\n",
    "            D = np.dot(E,q)\n",
    "        elif(len(gate1) == 4):\n",
    "            D = np.dot(gate1,q)\n",
    "       \n",
    "        return D"
   ]
  },
  {
   "cell_type": "code",
   "execution_count": 5,
   "metadata": {},
   "outputs": [
    {
     "name": "stdout",
     "output_type": "stream",
     "text": [
      "2 2\n",
      "q [1, 0, 0, 0] gate1 [[ 0.70710678  0.70710678]\n",
      " [ 0.70710678 -0.70710678]] gate12 [[1. 0.]\n",
      " [0. 1.]]\n",
      "4 4\n",
      "q [0.70710678 0.70710678 0.         0.        ] gate1 [[1 0 0 0]\n",
      " [0 0 0 1]\n",
      " [0 0 1 0]\n",
      " [0 1 0 0]] gate12 [[1 0 0 0]\n",
      " [0 1 0 0]\n",
      " [0 0 0 1]\n",
      " [0 0 1 0]]\n",
      "2 2\n",
      "q [0.70710678 0.         0.         0.70710678] gate1 [[1. 0.]\n",
      " [0. 1.]] gate12 [[1. 0.]\n",
      " [0. 1.]]\n",
      "2 2\n",
      "q [0.70710678 0.         0.         0.70710678] gate1 [[1. 0.]\n",
      " [0. 1.]] gate12 [[1. 0.]\n",
      " [0. 1.]]\n",
      "2 2\n",
      "q [0.70710678 0.         0.         0.70710678] gate1 [[1. 0.]\n",
      " [0. 1.]] gate12 [[1. 0.]\n",
      " [0. 1.]]\n"
     ]
    },
    {
     "data": {
      "text/plain": [
       "[0.7071067811865475, 0.0, 0.0, 0.7071067811865475]"
      ]
     },
     "execution_count": 5,
     "metadata": {},
     "output_type": "execute_result"
    }
   ],
   "source": [
    "#calcNewResult1([['0', 'H', 'N'], ['0', 'I', 'X']])\n",
    "#calcNewResult1([['0', 'I', 'X'], ['0', 'H', 'N']])\n",
    "#calcNewResult1([['0', 'X', 'N'], ['0', 'I', 'X']])\n",
    "#calcNewResult1([['0', 'I', 'X'], ['0', 'X', 'N']])\n",
    "calcNewResult1([['0', 'H', 'N', '/', '/', '/'], ['0', 'I', 'X', '/', '/', '/']])"
   ]
  },
  {
   "cell_type": "code",
   "execution_count": null,
   "metadata": {},
   "outputs": [],
   "source": [
    "if(len(gate1) == 2 and len(gate2) == 2 or np.array_equal(gate2,IDgate)):\n",
    "                #print(\"I am here gate1\")\n",
    "                E = np.kron(gate2,gate1)\n",
    "                D = np.dot(E,q)\n",
    "                print(\"D\",D)\n",
    "        elif(len(gate1) == 2 and len(gate2) == 2 or np.array_equal(gate1,IDgate)):\n",
    "                #print(\"I am here gate2\")\n",
    "                E = np.kron(gate1,gate2)\n",
    "                D = np.dot(E,q)\n",
    "                print(\"D\",D)\n",
    "        elif(len(gate1) == 4 or len(gate2) == 4):\n",
    "            if(len(gate1) == 4):\n",
    "                #print(\"I am here 2\")\n",
    "                D = np.dot(gate2,q)\n",
    "                print(\"D\",D)\n",
    "            elif(len(gate2) == 4):\n",
    "                #print(\"I am here 3\")\n",
    "                D = np.dot(gate1,q)\n",
    "                print(\"D\",D)"
   ]
  }
 ],
 "metadata": {
  "kernelspec": {
   "display_name": "Python 3",
   "language": "python",
   "name": "python3"
  },
  "language_info": {
   "codemirror_mode": {
    "name": "ipython",
    "version": 3
   },
   "file_extension": ".py",
   "mimetype": "text/x-python",
   "name": "python",
   "nbconvert_exporter": "python",
   "pygments_lexer": "ipython3",
   "version": "3.7.1"
  }
 },
 "nbformat": 4,
 "nbformat_minor": 2
}
